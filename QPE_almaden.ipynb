{
 "cells": [
  {
   "cell_type": "code",
   "execution_count": 1,
   "metadata": {},
   "outputs": [
    {
     "data": {
      "text/plain": [
       "{'qiskit-terra': '0.13.0',\n",
       " 'qiskit-aer': '0.5.0',\n",
       " 'qiskit-ignis': '0.3.0',\n",
       " 'qiskit-ibmq-provider': '0.6.0',\n",
       " 'qiskit-aqua': '0.6.5',\n",
       " 'qiskit': '0.18.0'}"
      ]
     },
     "execution_count": 1,
     "metadata": {},
     "output_type": "execute_result"
    }
   ],
   "source": [
    "from qiskit import IBMQ\n",
    "import qiskit\n",
    "qiskit.__qiskit_version__"
   ]
  },
  {
   "cell_type": "code",
   "execution_count": 2,
   "metadata": {},
   "outputs": [
    {
     "data": {
      "text/plain": [
       "[<IBMQSimulator('ibmq_qasm_simulator') from IBMQ(hub='ibm-q-ncsu', group='nc-state', project='on-boarding')>,\n",
       " <IBMQBackend('ibmq_poughkeepsie') from IBMQ(hub='ibm-q-ncsu', group='nc-state', project='on-boarding')>,\n",
       " <IBMQBackend('ibmq_vigo') from IBMQ(hub='ibm-q-ncsu', group='nc-state', project='on-boarding')>,\n",
       " <IBMQBackend('ibmq_ourense') from IBMQ(hub='ibm-q-ncsu', group='nc-state', project='on-boarding')>,\n",
       " <IBMQBackend('ibmq_valencia') from IBMQ(hub='ibm-q-ncsu', group='nc-state', project='on-boarding')>,\n",
       " <IBMQBackend('ibmq_london') from IBMQ(hub='ibm-q-ncsu', group='nc-state', project='on-boarding')>,\n",
       " <IBMQBackend('ibmq_burlington') from IBMQ(hub='ibm-q-ncsu', group='nc-state', project='on-boarding')>,\n",
       " <IBMQBackend('ibmq_almaden') from IBMQ(hub='ibm-q-ncsu', group='nc-state', project='on-boarding')>,\n",
       " <IBMQBackend('ibmq_rochester') from IBMQ(hub='ibm-q-ncsu', group='nc-state', project='on-boarding')>,\n",
       " <IBMQBackend('ibmq_essex') from IBMQ(hub='ibm-q-ncsu', group='nc-state', project='on-boarding')>,\n",
       " <IBMQBackend('ibmq_paris') from IBMQ(hub='ibm-q-ncsu', group='nc-state', project='on-boarding')>]"
      ]
     },
     "execution_count": 2,
     "metadata": {},
     "output_type": "execute_result"
    }
   ],
   "source": [
    "provider = IBMQ.load_account()\n",
    "provider = IBMQ.get_provider(hub='ibm-q-ncsu', group='nc-state', project='on-boarding')\n",
    "#provider = IBMQ.get_provider(hub='ibm-q', group='open', project='main')\n",
    "provider.backends()"
   ]
  },
  {
   "cell_type": "code",
   "execution_count": 3,
   "metadata": {},
   "outputs": [],
   "source": [
    "import math\n",
    "import numpy as np\n",
    "import random\n",
    "import re\n",
    "import qiskit.tools.jupyter\n",
    "\n",
    "from qiskit import *\n",
    "from qiskit.compiler import transpile\n",
    "from qiskit.visualization import plot_histogram\n",
    "from qiskit.tools.monitor import job_monitor\n",
    "\n",
    "from qiskit.transpiler import PassManager\n",
    "from qiskit.transpiler import CouplingMap, Layout\n",
    "from qiskit.transpiler.passes import StochasticSwap, BasicSwap\n",
    "\n",
    "from qiskit.tools.monitor import job_monitor, backend_monitor, backend_overview\n",
    "%matplotlib inline"
   ]
  },
  {
   "cell_type": "code",
   "execution_count": 4,
   "metadata": {},
   "outputs": [],
   "source": [
    "from qiskit.transpiler import PassManagerConfig\n",
    "from qiskit.transpiler.coupling import CouplingMap\n",
    "from statistics import mean\n",
    "from passmanager import level_3_with_contant_pure\n",
    "from benchmark.suites.qpe import QPE"
   ]
  },
  {
   "cell_type": "code",
   "execution_count": 5,
   "metadata": {},
   "outputs": [
    {
     "name": "stdout",
     "output_type": "stream",
     "text": [
      "ibmq_almaden\n",
      "============\n",
      "Configuration\n",
      "-------------\n",
      "    n_qubits: 20\n",
      "    operational: True\n",
      "    status_msg: active\n",
      "    pending_jobs: 1\n",
      "    backend_version: 1.4.6\n",
      "    basis_gates: ['u1', 'u2', 'u3', 'cx', 'id']\n",
      "    local: False\n",
      "    simulator: False\n",
      "    dt: 3.5555555555555554e-09\n",
      "    conditional: False\n",
      "    coupling_map: [[0, 1], [1, 0], [1, 2], [1, 6], [2, 1], [2, 3], [3, 2], [3, 4], [3, 8], [4, 3], [5, 6], [5, 10], [6, 1], [6, 5], [6, 7], [7, 6], [7, 8], [7, 12], [8, 3], [8, 7], [8, 9], [9, 8], [9, 14], [10, 5], [10, 11], [11, 10], [11, 12], [11, 16], [12, 7], [12, 11], [12, 13], [13, 12], [13, 14], [13, 18], [14, 9], [14, 13], [15, 16], [16, 11], [16, 15], [16, 17], [17, 16], [17, 18], [18, 13], [18, 17], [18, 19], [19, 18]]\n",
      "    max_shots: 8192\n",
      "    online_date: 2019-09-13T04:00:00+00:00\n",
      "    u_channel_lo: [[{'q': 1, 'scale': [1.0, 0.0]}], [{'q': 0, 'scale': [1.0, 0.0]}], [{'q': 2, 'scale': [1.0, 0.0]}], [{'q': 6, 'scale': [1.0, 0.0]}], [{'q': 1, 'scale': [1.0, 0.0]}], [{'q': 3, 'scale': [1.0, 0.0]}], [{'q': 2, 'scale': [1.0, 0.0]}], [{'q': 4, 'scale': [1.0, 0.0]}], [{'q': 8, 'scale': [1.0, 0.0]}], [{'q': 3, 'scale': [1.0, 0.0]}], [{'q': 6, 'scale': [1.0, 0.0]}], [{'q': 10, 'scale': [1.0, 0.0]}], [{'q': 1, 'scale': [1.0, 0.0]}], [{'q': 5, 'scale': [1.0, 0.0]}], [{'q': 7, 'scale': [1.0, 0.0]}], [{'q': 6, 'scale': [1.0, 0.0]}], [{'q': 8, 'scale': [1.0, 0.0]}], [{'q': 12, 'scale': [1.0, 0.0]}], [{'q': 3, 'scale': [1.0, 0.0]}], [{'q': 7, 'scale': [1.0, 0.0]}], [{'q': 9, 'scale': [1.0, 0.0]}], [{'q': 8, 'scale': [1.0, 0.0]}], [{'q': 14, 'scale': [1.0, 0.0]}], [{'q': 5, 'scale': [1.0, 0.0]}], [{'q': 11, 'scale': [1.0, 0.0]}], [{'q': 10, 'scale': [1.0, 0.0]}], [{'q': 12, 'scale': [1.0, 0.0]}], [{'q': 16, 'scale': [1.0, 0.0]}], [{'q': 7, 'scale': [1.0, 0.0]}], [{'q': 11, 'scale': [1.0, 0.0]}], [{'q': 13, 'scale': [1.0, 0.0]}], [{'q': 12, 'scale': [1.0, 0.0]}], [{'q': 14, 'scale': [1.0, 0.0]}], [{'q': 18, 'scale': [1.0, 0.0]}], [{'q': 9, 'scale': [1.0, 0.0]}], [{'q': 13, 'scale': [1.0, 0.0]}], [{'q': 16, 'scale': [1.0, 0.0]}], [{'q': 11, 'scale': [1.0, 0.0]}], [{'q': 15, 'scale': [1.0, 0.0]}], [{'q': 17, 'scale': [1.0, 0.0]}], [{'q': 16, 'scale': [1.0, 0.0]}], [{'q': 18, 'scale': [1.0, 0.0]}], [{'q': 13, 'scale': [1.0, 0.0]}], [{'q': 17, 'scale': [1.0, 0.0]}], [{'q': 19, 'scale': [1.0, 0.0]}], [{'q': 18, 'scale': [1.0, 0.0]}]]\n",
      "    url: None\n",
      "    uchannels_enabled: True\n",
      "    dtm: 3.5555555555555554e-09\n",
      "    n_registers: 1\n",
      "    rep_times: [0]\n",
      "    allow_q_circuit: False\n",
      "    meas_lo_range: [[6764856891.0, 7764856891.0], [6570226896.0, 7570226896.0], [6722414155.0, 7722414155.0], [6630569974.0, 7630569974.0], [6715856761.0, 7715856761.0], [6479389665.0, 7479389665.0], [6640246272.0, 7640246272.0], [6534825806.0, 7534825806.0], [6797209412.0, 7797209412.0], [6597757684.0, 7597757684.0], [6786899984.0, 7786899984.0], [6554657786.0, 7554657786.0], [6703657122.0, 7703657122.0], [6653318307.0, 7653318307.0], [6682410566.0, 7682410566.0], [6475843032.0, 7475843032.0], [6633222076.0, 7633222076.0], [6518386448.0, 7518386448.0], [6807007960.0, 7807007960.0], [6604129811.0, 7604129811.0]]\n",
      "    n_uchannels: 46\n",
      "    allow_object_storage: True\n",
      "    open_pulse: True\n",
      "    meas_map: [[0, 1, 2, 3, 4, 5, 6, 7, 8, 9, 10, 11, 12, 13, 14, 15, 16, 17, 18, 19]]\n",
      "    credits_required: True\n",
      "    qubit_lo_range: [[4357152165.037528, 5357152165.037528], [4471766555.388986, 5471766555.388986], [4571111439.9388, 5571111439.9388], [4426983341.092592, 5426983341.092592], [4219733314.5663195, 5219733314.566319], [4275034867.93258, 5275034867.93258], [4413664104.357497, 5413664104.357497], [4289295570.149339, 5289295570.14934], [4357610541.397088, 5357610541.397088], [4159205763.5126843, 5159205763.512684], [4479225971.88113, 5479225971.88113], [4422131122.694569, 5422131122.694569], [4334019900.794435, 5334019900.794435], [4443847604.774473, 5443847604.774473], [4250449580.438109, 5250449580.438108], [4156964331.284013, 5156964331.284013], [4349296297.171849, 5349296297.171849], [4285018344.010058, 5285018344.010057], [4326325747.532302, 5326325747.532302], [4213149144.2146716, 5213149144.214672]]\n",
      "    backend_name: ibmq_almaden\n",
      "    hamiltonian: {'description': 'Qubits are modelled as a two level system. Qubits are coupled through resonator buses. The provided Hamiltonian has been projected into the zero excitation subspace of the resonator buses leading to an effective qubit-qubit flip-flop interaction. The qubit resonance frequencies in the Hamiltonian are the cavity dressed frequencies and not exactly what is returned by the backend defaults, which also includes the dressing due to the qubit-qubit interactions.\\nWarning: Currently not all system Hamiltonian information is available to the public, missing values have been replaced with 0.\\n', 'h_latex': '\\\\begin{align} \\\\mathcal{H}/\\\\hbar = & \\\\sum_{i=0}^{19}\\\\left(\\\\frac{\\\\omega_{q,i}}{2} (\\\\mathbb{1}_i-\\\\sigma_i^{z})+ \\\\Omega_{d,i}D_i(t)\\\\sigma_i^{X}\\\\right) \\\\\\\\ & + J_{11,16}(\\\\sigma_{11}^{+}\\\\sigma_{16}^{-}+\\\\sigma_{11}^{-}\\\\sigma_{16}^{+}) + J_{10,11}(\\\\sigma_{10}^{+}\\\\sigma_{11}^{-}+\\\\sigma_{10}^{-}\\\\sigma_{11}^{+}) + J_{7,12}(\\\\sigma_{7}^{+}\\\\sigma_{12}^{-}+\\\\sigma_{7}^{-}\\\\sigma_{12}^{+}) + J_{5,6}(\\\\sigma_{5}^{+}\\\\sigma_{6}^{-}+\\\\sigma_{5}^{-}\\\\sigma_{6}^{+}) \\\\\\\\ & + J_{8,9}(\\\\sigma_{8}^{+}\\\\sigma_{9}^{-}+\\\\sigma_{8}^{-}\\\\sigma_{9}^{+}) + J_{15,16}(\\\\sigma_{15}^{+}\\\\sigma_{16}^{-}+\\\\sigma_{15}^{-}\\\\sigma_{16}^{+}) + J_{1,6}(\\\\sigma_{1}^{+}\\\\sigma_{6}^{-}+\\\\sigma_{1}^{-}\\\\sigma_{6}^{+}) + J_{18,19}(\\\\sigma_{18}^{+}\\\\sigma_{19}^{-}+\\\\sigma_{18}^{-}\\\\sigma_{19}^{+}) \\\\\\\\ & + J_{1,2}(\\\\sigma_{1}^{+}\\\\sigma_{2}^{-}+\\\\sigma_{1}^{-}\\\\sigma_{2}^{+}) + J_{16,17}(\\\\sigma_{16}^{+}\\\\sigma_{17}^{-}+\\\\sigma_{16}^{-}\\\\sigma_{17}^{+}) + J_{6,7}(\\\\sigma_{6}^{+}\\\\sigma_{7}^{-}+\\\\sigma_{6}^{-}\\\\sigma_{7}^{+}) + J_{12,13}(\\\\sigma_{12}^{+}\\\\sigma_{13}^{-}+\\\\sigma_{12}^{-}\\\\sigma_{13}^{+}) \\\\\\\\ & + J_{3,4}(\\\\sigma_{3}^{+}\\\\sigma_{4}^{-}+\\\\sigma_{3}^{-}\\\\sigma_{4}^{+}) + J_{9,14}(\\\\sigma_{9}^{+}\\\\sigma_{14}^{-}+\\\\sigma_{9}^{-}\\\\sigma_{14}^{+}) + J_{2,3}(\\\\sigma_{2}^{+}\\\\sigma_{3}^{-}+\\\\sigma_{2}^{-}\\\\sigma_{3}^{+}) + J_{11,12}(\\\\sigma_{11}^{+}\\\\sigma_{12}^{-}+\\\\sigma_{11}^{-}\\\\sigma_{12}^{+}) \\\\\\\\ & + J_{17,18}(\\\\sigma_{17}^{+}\\\\sigma_{18}^{-}+\\\\sigma_{17}^{-}\\\\sigma_{18}^{+}) + J_{0,1}(\\\\sigma_{0}^{+}\\\\sigma_{1}^{-}+\\\\sigma_{0}^{-}\\\\sigma_{1}^{+}) + J_{5,10}(\\\\sigma_{5}^{+}\\\\sigma_{10}^{-}+\\\\sigma_{5}^{-}\\\\sigma_{10}^{+}) + J_{13,14}(\\\\sigma_{13}^{+}\\\\sigma_{14}^{-}+\\\\sigma_{13}^{-}\\\\sigma_{14}^{+}) \\\\\\\\ & + J_{3,8}(\\\\sigma_{3}^{+}\\\\sigma_{8}^{-}+\\\\sigma_{3}^{-}\\\\sigma_{8}^{+}) + J_{13,18}(\\\\sigma_{13}^{+}\\\\sigma_{18}^{-}+\\\\sigma_{13}^{-}\\\\sigma_{18}^{+}) + J_{7,8}(\\\\sigma_{7}^{+}\\\\sigma_{8}^{-}+\\\\sigma_{7}^{-}\\\\sigma_{8}^{+}) \\\\\\\\ & + \\\\Omega_{d,0}(U_{0}^{(0,1)}(t))\\\\sigma_{0}^{X} + \\\\Omega_{d,1}(U_{1}^{(1,0)}(t)+U_{3}^{(1,6)}(t)+U_{2}^{(1,2)}(t))\\\\sigma_{1}^{X} \\\\\\\\ & + \\\\Omega_{d,2}(U_{4}^{(2,1)}(t)+U_{5}^{(2,3)}(t))\\\\sigma_{2}^{X} + \\\\Omega_{d,3}(U_{7}^{(3,4)}(t)+U_{6}^{(3,2)}(t)+U_{8}^{(3,8)}(t))\\\\sigma_{3}^{X} \\\\\\\\ & + \\\\Omega_{d,4}(U_{9}^{(4,3)}(t))\\\\sigma_{4}^{X} + \\\\Omega_{d,5}(U_{11}^{(5,10)}(t)+U_{10}^{(5,6)}(t))\\\\sigma_{5}^{X} \\\\\\\\ & + \\\\Omega_{d,6}(U_{14}^{(6,7)}(t)+U_{12}^{(6,1)}(t)+U_{13}^{(6,5)}(t))\\\\sigma_{6}^{X} + \\\\Omega_{d,7}(U_{15}^{(7,6)}(t)+U_{16}^{(7,8)}(t)+U_{17}^{(7,12)}(t))\\\\sigma_{7}^{X} \\\\\\\\ & + \\\\Omega_{d,8}(U_{19}^{(8,7)}(t)+U_{18}^{(8,3)}(t)+U_{20}^{(8,9)}(t))\\\\sigma_{8}^{X} + \\\\Omega_{d,9}(U_{21}^{(9,8)}(t)+U_{22}^{(9,14)}(t))\\\\sigma_{9}^{X} \\\\\\\\ & + \\\\Omega_{d,10}(U_{24}^{(10,11)}(t)+U_{23}^{(10,5)}(t))\\\\sigma_{10}^{X} + \\\\Omega_{d,11}(U_{25}^{(11,10)}(t)+U_{26}^{(11,12)}(t)+U_{27}^{(11,16)}(t))\\\\sigma_{11}^{X} \\\\\\\\ & + \\\\Omega_{d,12}(U_{28}^{(12,7)}(t)+U_{30}^{(12,13)}(t)+U_{29}^{(12,11)}(t))\\\\sigma_{12}^{X} + \\\\Omega_{d,13}(U_{31}^{(13,12)}(t)+U_{32}^{(13,14)}(t)+U_{33}^{(13,18)}(t))\\\\sigma_{13}^{X} \\\\\\\\ & + \\\\Omega_{d,14}(U_{34}^{(14,9)}(t)+U_{35}^{(14,13)}(t))\\\\sigma_{14}^{X} + \\\\Omega_{d,15}(U_{36}^{(15,16)}(t))\\\\sigma_{15}^{X} \\\\\\\\ & + \\\\Omega_{d,16}(U_{38}^{(16,15)}(t)+U_{39}^{(16,17)}(t)+U_{37}^{(16,11)}(t))\\\\sigma_{16}^{X} + \\\\Omega_{d,17}(U_{41}^{(17,18)}(t)+U_{40}^{(17,16)}(t))\\\\sigma_{17}^{X} \\\\\\\\ & + \\\\Omega_{d,18}(U_{42}^{(18,13)}(t)+U_{43}^{(18,17)}(t)+U_{44}^{(18,19)}(t))\\\\sigma_{18}^{X} + \\\\Omega_{d,19}(U_{45}^{(19,18)}(t))\\\\sigma_{19}^{X} \\\\\\\\ \\\\end{align}', 'h_str': ['_SUM[i,0,19,wq{i}/2*(I{i}-Z{i})]', '_SUM[i,0,19,omegad{i}*X{i}||D{i}]', 'jq11q16*Sp11*Sm16', 'jq11q16*Sm11*Sp16', 'jq10q11*Sp10*Sm11', 'jq10q11*Sm10*Sp11', 'jq7q12*Sp7*Sm12', 'jq7q12*Sm7*Sp12', 'jq5q6*Sp5*Sm6', 'jq5q6*Sm5*Sp6', 'jq8q9*Sp8*Sm9', 'jq8q9*Sm8*Sp9', 'jq15q16*Sp15*Sm16', 'jq15q16*Sm15*Sp16', 'jq1q6*Sp1*Sm6', 'jq1q6*Sm1*Sp6', 'jq18q19*Sp18*Sm19', 'jq18q19*Sm18*Sp19', 'jq1q2*Sp1*Sm2', 'jq1q2*Sm1*Sp2', 'jq16q17*Sp16*Sm17', 'jq16q17*Sm16*Sp17', 'jq6q7*Sp6*Sm7', 'jq6q7*Sm6*Sp7', 'jq12q13*Sp12*Sm13', 'jq12q13*Sm12*Sp13', 'jq3q4*Sp3*Sm4', 'jq3q4*Sm3*Sp4', 'jq9q14*Sp9*Sm14', 'jq9q14*Sm9*Sp14', 'jq2q3*Sp2*Sm3', 'jq2q3*Sm2*Sp3', 'jq11q12*Sp11*Sm12', 'jq11q12*Sm11*Sp12', 'jq17q18*Sp17*Sm18', 'jq17q18*Sm17*Sp18', 'jq0q1*Sp0*Sm1', 'jq0q1*Sm0*Sp1', 'jq5q10*Sp5*Sm10', 'jq5q10*Sm5*Sp10', 'jq13q14*Sp13*Sm14', 'jq13q14*Sm13*Sp14', 'jq3q8*Sp3*Sm8', 'jq3q8*Sm3*Sp8', 'jq13q18*Sp13*Sm18', 'jq13q18*Sm13*Sp18', 'jq7q8*Sp7*Sm8', 'jq7q8*Sm7*Sp8', 'omegad1*X0||U0', 'omegad0*X1||U1', 'omegad6*X1||U3', 'omegad2*X1||U2', 'omegad1*X2||U4', 'omegad3*X2||U5', 'omegad4*X3||U7', 'omegad2*X3||U6', 'omegad8*X3||U8', 'omegad3*X4||U9', 'omegad10*X5||U11', 'omegad6*X5||U10', 'omegad7*X6||U14', 'omegad1*X6||U12', 'omegad5*X6||U13', 'omegad6*X7||U15', 'omegad8*X7||U16', 'omegad12*X7||U17', 'omegad7*X8||U19', 'omegad3*X8||U18', 'omegad9*X8||U20', 'omegad8*X9||U21', 'omegad14*X9||U22', 'omegad11*X10||U24', 'omegad5*X10||U23', 'omegad10*X11||U25', 'omegad12*X11||U26', 'omegad16*X11||U27', 'omegad7*X12||U28', 'omegad13*X12||U30', 'omegad11*X12||U29', 'omegad12*X13||U31', 'omegad14*X13||U32', 'omegad18*X13||U33', 'omegad9*X14||U34', 'omegad13*X14||U35', 'omegad16*X15||U36', 'omegad15*X16||U38', 'omegad17*X16||U39', 'omegad11*X16||U37', 'omegad18*X17||U41', 'omegad16*X17||U40', 'omegad13*X18||U42', 'omegad17*X18||U43', 'omegad19*X18||U44', 'omegad18*X19||U45'], 'osc': {}, 'qub': {'0': 2, '1': 2, '2': 2, '3': 2, '4': 2, '5': 2, '6': 2, '7': 2, '8': 2, '9': 2, '10': 2, '11': 2, '12': 2, '13': 2, '14': 2, '15': 2, '16': 2, '17': 2, '18': 2, '19': 2}, 'vars': {'jq0q1': 0, 'jq10q11': 0, 'jq11q12': 0, 'jq11q16': 0, 'jq12q13': 0, 'jq13q14': 0, 'jq13q18': 0, 'jq15q16': 0, 'jq16q17': 0, 'jq17q18': 0, 'jq18q19': 0, 'jq1q2': 0, 'jq1q6': 0, 'jq2q3': 0, 'jq3q4': 0, 'jq3q8': 0, 'jq5q10': 0, 'jq5q6': 0, 'jq6q7': 0, 'jq7q12': 0, 'jq7q8': 0, 'jq8q9': 0, 'jq9q14': 0, 'omegad0': 0, 'omegad1': 0, 'omegad10': 0, 'omegad11': 0, 'omegad12': 0, 'omegad13': 0, 'omegad14': 0, 'omegad15': 0, 'omegad16': 0, 'omegad17': 0, 'omegad18': 0, 'omegad19': 0, 'omegad2': 0, 'omegad3': 0, 'omegad4': 0, 'omegad5': 0, 'omegad6': 0, 'omegad7': 0, 'omegad8': 0, 'omegad9': 0, 'wq0': 30.518387118099312, 'wq1': 31.23853057154694, 'wq10': 31.285399467650514, 'wq11': 30.926661950125876, 'wq12': 30.373042815285313, 'wq13': 31.063110631253963, 'wq14': 29.847955006306155, 'wq15': 29.260569862383118, 'wq16': 30.46902724455054, 'wq17': 30.06515695366879, 'wq18': 30.324699024557493, 'wq19': 29.613589453475672, 'wq2': 31.862732890493785, 'wq3': 30.957149337471563, 'wq4': 29.65495901588911, 'wq5': 30.002428923464205, 'wq6': 30.87346210491477, 'wq7': 30.09203155810261, 'wq8': 30.52126718170686, 'wq9': 29.27465319642934}}\n",
      "    memory: True\n",
      "    acquisition_latency: []\n",
      "    allow_q_object: True\n",
      "    description: 20 qubit device Almaden\n",
      "    discriminators: ['linear_discriminator', 'quadratic_discriminator']\n",
      "    meas_kernels: ['boxcar']\n",
      "    quantum_volume: 8\n",
      "    max_experiments: 900\n",
      "    meas_levels: [1, 2]\n",
      "    conditional_latency: []\n",
      "    sample_name: HexV2\n",
      "\n",
      "Qubits [Name / Freq / T1 / T2 / U1 err / U2 err / U3 err / Readout err]\n",
      "-----------------------------------------------------------------------\n",
      "    Q0 / 4.85715 GHz / 72.63238 µs / 102.04211 µs / 0.0 / 0.00068 / 0.00137 / 0.03667\n",
      "    Q1 / 4.97177 GHz / 83.68511 µs / 20.15841 µs / 0.0 / 0.00055 / 0.0011 / 0.045\n",
      "    Q2 / 5.07111 GHz / 96.78522 µs / 19.83045 µs / 0.0 / 0.00047 / 0.00094 / 0.12833\n",
      "    Q3 / 4.92698 GHz / 93.15195 µs / 138.82031 µs / 0.0 / 0.00036 / 0.00073 / 0.015\n",
      "    Q4 / 4.71973 GHz / 131.55839 µs / 162.34797 µs / 0.0 / 0.00026 / 0.00052 / 0.01667\n",
      "    Q5 / 4.77503 GHz / 115.38173 µs / 119.84606 µs / 0.0 / 0.00066 / 0.00132 / 0.08167\n",
      "    Q6 / 4.91366 GHz / 69.34857 µs / 35.02859 µs / 0.0 / 0.00061 / 0.00122 / 0.05667\n",
      "    Q7 / 4.7893 GHz / 21.41658 µs / 14.68001 µs / 0.0 / 0.00095 / 0.00189 / 0.04833\n",
      "    Q8 / 4.85761 GHz / 112.82705 µs / 96.60506 µs / 0.0 / 0.00028 / 0.00057 / 0.02833\n",
      "    Q9 / 4.65921 GHz / 106.30635 µs / 127.34094 µs / 0.0 / 0.0004 / 0.00079 / 0.02833\n",
      "    Q10 / 4.97923 GHz / 131.83902 µs / 13.37327 µs / 0.0 / 0.00049 / 0.00098 / 0.03667\n",
      "    Q11 / 4.92213 GHz / 56.03556 µs / 84.2544 µs / 0.0 / 0.00066 / 0.00132 / 0.00833\n",
      "    Q12 / 4.83402 GHz / 112.74639 µs / 37.51677 µs / 0.0 / 0.00084 / 0.00167 / 0.01667\n",
      "    Q13 / 4.94385 GHz / 143.49342 µs / 13.9653 µs / 0.0 / 0.00088 / 0.00176 / 0.025\n",
      "    Q14 / 4.75045 GHz / 124.95256 µs / 16.51211 µs / 0.0 / 0.0007 / 0.0014 / 0.01833\n",
      "    Q15 / 4.65696 GHz / 117.64104 µs / 151.27719 µs / 0.0 / 0.00037 / 0.00075 / 0.015\n",
      "    Q16 / 4.8493 GHz / 86.06115 µs / 111.01472 µs / 0.0 / 0.00037 / 0.00074 / 0.03\n",
      "    Q17 / 4.78502 GHz / 115.56301 µs / 108.73886 µs / 0.0 / 0.00057 / 0.00114 / 0.025\n",
      "    Q18 / 4.82633 GHz / 95.36256 µs / 12.55396 µs / 0.0 / 0.00164 / 0.00329 / 0.06\n",
      "    Q19 / 4.71315 GHz / 143.72866 µs / 195.37614 µs / 0.0 / 0.00084 / 0.00169 / 0.06667\n",
      "\n",
      "Multi-Qubit Gates [Name / Type / Gate Error]\n",
      "--------------------------------------------\n",
      "    cx0_1 / cx / 0.00997\n",
      "    cx1_0 / cx / 0.00997\n",
      "    cx1_2 / cx / 0.0123\n",
      "    cx1_6 / cx / 0.01653\n",
      "    cx2_1 / cx / 0.0123\n",
      "    cx2_3 / cx / 0.0155\n",
      "    cx3_2 / cx / 0.0155\n",
      "    cx3_4 / cx / 0.01163\n",
      "    cx3_8 / cx / 0.01085\n",
      "    cx4_3 / cx / 0.01163\n",
      "    cx5_6 / cx / 0.01164\n",
      "    cx5_10 / cx / 0.00818\n",
      "    cx6_1 / cx / 0.01653\n",
      "    cx6_5 / cx / 0.01164\n",
      "    cx6_7 / cx / 0.03835\n",
      "    cx7_6 / cx / 0.03835\n",
      "    cx7_8 / cx / 0.01683\n",
      "    cx7_12 / cx / 0.02122\n",
      "    cx8_3 / cx / 0.01085\n",
      "    cx8_7 / cx / 0.01683\n",
      "    cx8_9 / cx / 0.01919\n",
      "    cx9_8 / cx / 0.01919\n",
      "    cx9_14 / cx / 0.01158\n",
      "    cx10_5 / cx / 0.00818\n",
      "    cx10_11 / cx / 0.01402\n",
      "    cx11_10 / cx / 0.01402\n",
      "    cx11_12 / cx / 0.01117\n",
      "    cx11_16 / cx / 0.01005\n",
      "    cx12_7 / cx / 0.02122\n",
      "    cx12_11 / cx / 0.01117\n",
      "    cx12_13 / cx / 0.01909\n",
      "    cx13_12 / cx / 0.01909\n",
      "    cx13_14 / cx / 0.0105\n",
      "    cx13_18 / cx / 0.02128\n",
      "    cx14_9 / cx / 0.01158\n",
      "    cx14_13 / cx / 0.0105\n",
      "    cx15_16 / cx / 0.01165\n",
      "    cx16_11 / cx / 0.01005\n",
      "    cx16_15 / cx / 0.01165\n",
      "    cx16_17 / cx / 0.0093\n",
      "    cx17_16 / cx / 0.0093\n",
      "    cx17_18 / cx / 0.01675\n",
      "    cx18_13 / cx / 0.02128\n",
      "    cx18_17 / cx / 0.01675\n",
      "    cx18_19 / cx / 0.01621\n",
      "    cx19_18 / cx / 0.01621\n"
     ]
    },
    {
     "data": {
      "application/vnd.jupyter.widget-view+json": {
       "model_id": "464f2d6c99ab477c913c8a53c185bbdd",
       "version_major": 2,
       "version_minor": 0
      },
      "text/plain": [
       "VBox(children=(HTML(value=\"<h1 style='color:#ffffff;background-color:#000000;padding-top: 1%;padding-bottom: 1…"
      ]
     },
     "metadata": {},
     "output_type": "display_data"
    },
    {
     "data": {
      "text/plain": [
       "<IBMQBackend('ibmq_almaden') from IBMQ(hub='ibm-q-ncsu', group='nc-state', project='on-boarding')>"
      ]
     },
     "execution_count": 5,
     "metadata": {},
     "output_type": "execute_result"
    }
   ],
   "source": [
    "device = provider.get_backend('ibmq_almaden')\n",
    "backend_monitor(device)\n",
    "device"
   ]
  },
  {
   "cell_type": "code",
   "execution_count": 6,
   "metadata": {},
   "outputs": [],
   "source": [
    "simulator = provider.get_backend('ibmq_qasm_simulator')"
   ]
  },
  {
   "cell_type": "code",
   "execution_count": 49,
   "metadata": {},
   "outputs": [],
   "source": [
    "seed = 0\n",
    "pmconfig = PassManagerConfig(\n",
    "            initial_layout=None,\n",
    "            basis_gates=['u1', 'u2', 'u3', 'cx', 'id'],\n",
    "            coupling_map=CouplingMap(device.configuration().coupling_map),\n",
    "            backend_properties=device.properties(),\n",
    "            seed_transpiler=seed)"
   ]
  },
  {
   "cell_type": "code",
   "execution_count": 50,
   "metadata": {},
   "outputs": [],
   "source": [
    "pm = level_3_with_contant_pure(pmconfig)"
   ]
  },
  {
   "cell_type": "code",
   "execution_count": 60,
   "metadata": {},
   "outputs": [],
   "source": [
    "QCList = []\n",
    "for i in range(3, 7):\n",
    "    QCList.append(transpile(QPE(nbits = i),device, optimization_level = 3))\n",
    "    QCList.append(pm.run(QPE(nbits = i)))"
   ]
  },
  {
   "cell_type": "code",
   "execution_count": 61,
   "metadata": {},
   "outputs": [
    {
     "data": {
      "text/plain": [
       "OrderedDict([('cx', 28),\n",
       "             ('u2', 13),\n",
       "             ('u1', 11),\n",
       "             ('u3', 3),\n",
       "             ('measure', 3),\n",
       "             ('barrier', 1)])"
      ]
     },
     "execution_count": 61,
     "metadata": {},
     "output_type": "execute_result"
    }
   ],
   "source": [
    "QCList[0].count_ops()"
   ]
  },
  {
   "cell_type": "code",
   "execution_count": 62,
   "metadata": {},
   "outputs": [
    {
     "data": {
      "text/plain": [
       "OrderedDict([('cx', 20),\n",
       "             ('u1', 15),\n",
       "             ('u2', 8),\n",
       "             ('measure', 3),\n",
       "             ('barrier', 1)])"
      ]
     },
     "execution_count": 62,
     "metadata": {},
     "output_type": "execute_result"
    }
   ],
   "source": [
    "QCList[1].count_ops()"
   ]
  },
  {
   "cell_type": "code",
   "execution_count": 67,
   "metadata": {},
   "outputs": [],
   "source": [
    "from qiskit.qobj.utils import MeasLevel, MeasReturnType\n",
    "from qiskit.pulse import Schedule\n",
    "from qiskit.exceptions import QiskitError"
   ]
  },
  {
   "cell_type": "code",
   "execution_count": 68,
   "metadata": {},
   "outputs": [],
   "source": [
    "qobj = assemble(QCList,\n",
    "            qobj_id=None, qobj_header=None,\n",
    "            shots=8192,\n",
    "            memory=False, max_credits=10, seed_simulator=None,\n",
    "            default_qubit_los=None, default_meas_los=None,  # schedule run options\n",
    "            schedule_los=None, meas_level=MeasLevel.CLASSIFIED,\n",
    "            meas_return=MeasReturnType.AVERAGE,\n",
    "            memory_slots=None, memory_slot_size=100, rep_time=None, parameter_binds=None,\n",
    "            backend=device,\n",
    "            )"
   ]
  },
  {
   "cell_type": "code",
   "execution_count": 69,
   "metadata": {},
   "outputs": [
    {
     "name": "stdout",
     "output_type": "stream",
     "text": [
      "Job Status: job has successfully run\n"
     ]
    }
   ],
   "source": [
    "job2 = device.run(qobj)\n",
    "job_monitor(job2)\n",
    "res2 = job2.result()"
   ]
  },
  {
   "cell_type": "code",
   "execution_count": 70,
   "metadata": {},
   "outputs": [
    {
     "data": {
      "image/png": "[encoded data removed]",
      "text/plain": [
       "<Figure size 504x360 with 1 Axes>"
      ]
     },
     "execution_count": 70,
     "metadata": {},
     "output_type": "execute_result"
    }
   ],
   "source": [
    "plot_histogram(res2.get_counts()[0])"
   ]
  },
  {
   "cell_type": "code",
   "execution_count": 71,
   "metadata": {},
   "outputs": [
    {
     "data": {
      "image/png": "[encoded data removed]",
      "text/plain": [
       "<Figure size 504x360 with 1 Axes>"
      ]
     },
     "execution_count": 71,
     "metadata": {},
     "output_type": "execute_result"
    }
   ],
   "source": [
    "plot_histogram(res2.get_counts()[1])"
   ]
  },
  {
   "cell_type": "code",
   "execution_count": 77,
   "metadata": {},
   "outputs": [],
   "source": [
    "plot_histogram(res2.get_counts()[1]).savefig('almadenour.pdf')"
   ]
  },
  {
   "cell_type": "code",
   "execution_count": 78,
   "metadata": {},
   "outputs": [],
   "source": [
    "plot_histogram(res2.get_counts()[0]).savefig('almadenlevel3.pdf')"
   ]
  },
  {
   "cell_type": "code",
   "execution_count": 80,
   "metadata": {},
   "outputs": [
    {
     "data": {
      "text/plain": [
       "{'111': 1089,\n",
       " '000': 655,\n",
       " '101': 621,\n",
       " '100': 550,\n",
       " '001': 960,\n",
       " '110': 699,\n",
       " '010': 1160,\n",
       " '011': 2458}"
      ]
     },
     "execution_count": 80,
     "metadata": {},
     "output_type": "execute_result"
    }
   ],
   "source": [
    "#level3 result\n",
    "res2.get_counts()[0]"
   ]
  },
  {
   "cell_type": "code",
   "execution_count": 79,
   "metadata": {},
   "outputs": [
    {
     "data": {
      "text/plain": [
       "{'111': 2935,\n",
       " '000': 532,\n",
       " '101': 1138,\n",
       " '100': 746,\n",
       " '001': 683,\n",
       " '110': 1025,\n",
       " '010': 360,\n",
       " '011': 773}"
      ]
     },
     "execution_count": 79,
     "metadata": {},
     "output_type": "execute_result"
    }
   ],
   "source": [
    "#our result\n",
    "res2.get_counts()[1]"
   ]
  }
 ],
 "metadata": {
  "kernelspec": {
   "display_name": "Python 3",
   "language": "python",
   "name": "python3"
  },
  "language_info": {
   "codemirror_mode": {
    "name": "ipython",
    "version": 3
   },
   "file_extension": ".py",
   "mimetype": "text/x-python",
   "name": "python",
   "nbconvert_exporter": "python",
   "pygments_lexer": "ipython3",
   "version": "3.7.3"
  }
 },
 "nbformat": 4,
 "nbformat_minor": 2
}
