{
 "cells": [
  {
   "cell_type": "code",
   "execution_count": 1,
   "metadata": {},
   "outputs": [
    {
     "data": {
      "text/plain": [
       "{'qiskit-terra': '0.13.0',\n",
       " 'qiskit-aer': '0.5.0',\n",
       " 'qiskit-ignis': '0.3.0',\n",
       " 'qiskit-ibmq-provider': '0.6.0',\n",
       " 'qiskit-aqua': '0.6.5',\n",
       " 'qiskit': '0.18.0'}"
      ]
     },
     "execution_count": 1,
     "metadata": {},
     "output_type": "execute_result"
    }
   ],
   "source": [
    "from qiskit import IBMQ\n",
    "import qiskit\n",
    "qiskit.__qiskit_version__"
   ]
  },
  {
   "cell_type": "code",
   "execution_count": 2,
   "metadata": {},
   "outputs": [
    {
     "data": {
      "text/plain": [
       "[<IBMQSimulator('ibmq_qasm_simulator') from IBMQ(hub='ibm-q', group='open', project='main')>,\n",
       " <IBMQBackend('ibmqx2') from IBMQ(hub='ibm-q', group='open', project='main')>,\n",
       " <IBMQBackend('ibmq_16_melbourne') from IBMQ(hub='ibm-q', group='open', project='main')>,\n",
       " <IBMQBackend('ibmq_vigo') from IBMQ(hub='ibm-q', group='open', project='main')>,\n",
       " <IBMQBackend('ibmq_ourense') from IBMQ(hub='ibm-q', group='open', project='main')>,\n",
       " <IBMQBackend('ibmq_london') from IBMQ(hub='ibm-q', group='open', project='main')>,\n",
       " <IBMQBackend('ibmq_burlington') from IBMQ(hub='ibm-q', group='open', project='main')>,\n",
       " <IBMQBackend('ibmq_essex') from IBMQ(hub='ibm-q', group='open', project='main')>,\n",
       " <IBMQBackend('ibmq_armonk') from IBMQ(hub='ibm-q', group='open', project='main')>]"
      ]
     },
     "execution_count": 2,
     "metadata": {},
     "output_type": "execute_result"
    }
   ],
   "source": [
    "provider = IBMQ.load_account()\n",
    "#provider = IBMQ.get_provider(hub='ibm-q-ncsu', group='nc-state', project='on-boarding')\n",
    "provider = IBMQ.get_provider(hub='ibm-q', group='open', project='main')\n",
    "provider.backends()"
   ]
  },
  {
   "cell_type": "code",
   "execution_count": 3,
   "metadata": {},
   "outputs": [],
   "source": [
    "import math\n",
    "import numpy as np\n",
    "import random\n",
    "import re\n",
    "import qiskit.tools.jupyter\n",
    "\n",
    "from qiskit import *\n",
    "from qiskit.compiler import transpile\n",
    "from qiskit.visualization import plot_histogram\n",
    "from qiskit.tools.monitor import job_monitor\n",
    "\n",
    "from qiskit.transpiler import PassManager\n",
    "from qiskit.transpiler import CouplingMap, Layout\n",
    "from qiskit.transpiler.passes import StochasticSwap, BasicSwap\n",
    "\n",
    "from qiskit.tools.monitor import job_monitor, backend_monitor, backend_overview\n",
    "%matplotlib inline"
   ]
  },
  {
   "cell_type": "code",
   "execution_count": 5,
   "metadata": {},
   "outputs": [],
   "source": [
    "from qiskit.transpiler import PassManagerConfig\n",
    "from qiskit.transpiler.coupling import CouplingMap\n",
    "from statistics import mean\n",
    "from passmanager import level_3_with_contant_pure\n",
    "from benchmark.suites.qpe import QPE"
   ]
  },
  {
   "cell_type": "code",
   "execution_count": 6,
   "metadata": {},
   "outputs": [
    {
     "name": "stdout",
     "output_type": "stream",
     "text": [
      "ibmq_16_melbourne\n",
      "=================\n",
      "Configuration\n",
      "-------------\n",
      "    n_qubits: 15\n",
      "    operational: True\n",
      "    status_msg: active\n",
      "    pending_jobs: 2\n",
      "    backend_version: 2.0.6\n",
      "    basis_gates: ['id', 'u1', 'u2', 'u3', 'cx']\n",
      "    local: False\n",
      "    simulator: False\n",
      "    memory: True\n",
      "    url: None\n",
      "    max_experiments: 75\n",
      "    online_date: 2018-11-06T05:00:00+00:00\n",
      "    n_registers: 1\n",
      "    quantum_volume: None\n",
      "    conditional: False\n",
      "    sample_name: albatross\n",
      "    allow_q_object: True\n",
      "    credits_required: True\n",
      "    backend_name: ibmq_16_melbourne\n",
      "    allow_object_storage: True\n",
      "    coupling_map: [[0, 1], [0, 14], [1, 0], [1, 2], [1, 13], [2, 1], [2, 3], [2, 12], [3, 2], [3, 4], [3, 11], [4, 3], [4, 5], [4, 10], [5, 4], [5, 6], [5, 9], [6, 5], [6, 8], [7, 8], [8, 6], [8, 7], [8, 9], [9, 5], [9, 8], [9, 10], [10, 4], [10, 9], [10, 11], [11, 3], [11, 10], [11, 12], [12, 2], [12, 11], [12, 13], [13, 1], [13, 12], [13, 14], [14, 0], [14, 13]]\n",
      "    description: 15 qubit device\n",
      "    max_shots: 8192\n",
      "    open_pulse: False\n",
      "    allow_q_circuit: False\n",
      "\n",
      "Qubits [Name / Freq / T1 / T2 / U1 err / U2 err / U3 err / Readout err]\n",
      "-----------------------------------------------------------------------\n",
      "    Q0 / 5.10016 GHz / 77.67781 µs / 21.10302 µs / 0.0 / 0.0005 / 0.00101 / 0.028\n",
      "    Q1 / 5.2385 GHz / 64.84795 µs / 109.39883 µs / 0.0 / 0.001 / 0.002 / 0.0395\n",
      "    Q2 / 5.03284 GHz / 48.35247 µs / 41.24809 µs / 0.0 / 0.00148 / 0.00297 / 0.029\n",
      "    Q3 / 4.89609 GHz / 73.42651 µs / 57.30439 µs / 0.0 / 0.00044 / 0.00088 / 0.0585\n",
      "    Q4 / 5.02632 GHz / 57.31221 µs / 43.05627 µs / 0.0 / 0.00104 / 0.00209 / 0.0695\n",
      "    Q5 / 5.06678 GHz / 18.28418 µs / 40.40258 µs / 0.0 / 0.00278 / 0.00556 / 0.0565\n",
      "    Q6 / 4.92405 GHz / 77.12633 µs / 77.69636 µs / 0.0 / 0.00131 / 0.00263 / 0.044\n",
      "    Q7 / 4.97452 GHz / 46.03294 µs / 53.87749 µs / 0.0 / 0.00224 / 0.00447 / 0.0295\n",
      "    Q8 / 4.74065 GHz / 37.13911 µs / 51.5912 µs / 0.0 / 0.00074 / 0.00149 / 0.268\n",
      "    Q9 / 4.96329 GHz / 42.3025 µs / 86.03267 µs / 0.0 / 0.00147 / 0.00294 / 0.041\n",
      "    Q10 / 4.94521 GHz / 64.89371 µs / 58.64467 µs / 0.0 / 0.00121 / 0.00242 / 0.033\n",
      "    Q11 / 5.00492 GHz / 60.42636 µs / 83.2758 µs / 0.0 / 0.00071 / 0.00142 / 0.042\n",
      "    Q12 / 4.75999 GHz / 135.73861 µs / 58.59112 µs / 0.0 / 0.00119 / 0.00237 / 0.0375\n",
      "    Q13 / 4.96832 GHz / 20.48783 µs / 45.54896 µs / 0.0 / 0.00248 / 0.00496 / 0.1035\n",
      "    Q14 / 5.0015 GHz / 42.3521 µs / 48.85607 µs / 0.0 / 0.00081 / 0.00161 / 0.0735\n",
      "\n",
      "Multi-Qubit Gates [Name / Type / Gate Error]\n",
      "--------------------------------------------\n",
      "    cx0_1 / cx / 0.01801\n",
      "    cx0_14 / cx / 0.03206\n",
      "    cx1_0 / cx / 0.01801\n",
      "    cx1_2 / cx / 0.01804\n",
      "    cx1_13 / cx / 0.06111\n",
      "    cx2_1 / cx / 0.01804\n",
      "    cx2_3 / cx / 0.02225\n",
      "    cx2_12 / cx / 0.04909\n",
      "    cx3_2 / cx / 0.02225\n",
      "    cx3_4 / cx / 0.0173\n",
      "    cx3_11 / cx / 0.03447\n",
      "    cx4_3 / cx / 0.0173\n",
      "    cx4_5 / cx / 0.02566\n",
      "    cx4_10 / cx / 0.02949\n",
      "    cx5_4 / cx / 0.02566\n",
      "    cx5_6 / cx / 0.0476\n",
      "    cx5_9 / cx / 0.04112\n",
      "    cx6_5 / cx / 0.0476\n",
      "    cx6_8 / cx / 0.02936\n",
      "    cx7_8 / cx / 0.03121\n",
      "    cx8_6 / cx / 0.02936\n",
      "    cx8_7 / cx / 0.03121\n",
      "    cx8_9 / cx / 0.03114\n",
      "    cx9_5 / cx / 0.04112\n",
      "    cx9_8 / cx / 0.03114\n",
      "    cx9_10 / cx / 0.03405\n",
      "    cx10_4 / cx / 0.02949\n",
      "    cx10_9 / cx / 0.03405\n",
      "    cx10_11 / cx / 0.03\n",
      "    cx11_3 / cx / 0.03447\n",
      "    cx11_10 / cx / 0.03\n",
      "    cx11_12 / cx / 0.02908\n",
      "    cx12_2 / cx / 0.04909\n",
      "    cx12_11 / cx / 0.02908\n",
      "    cx12_13 / cx / 0.0372\n",
      "    cx13_1 / cx / 0.06111\n",
      "    cx13_12 / cx / 0.0372\n",
      "    cx13_14 / cx / 0.08516\n",
      "    cx14_0 / cx / 0.03206\n",
      "    cx14_13 / cx / 0.08516\n"
     ]
    },
    {
     "data": {
      "application/vnd.jupyter.widget-view+json": {
       "model_id": "8a22222e79e442b2a42a81238214de32",
       "version_major": 2,
       "version_minor": 0
      },
      "text/plain": [
       "VBox(children=(HTML(value=\"<h1 style='color:#ffffff;background-color:#000000;padding-top: 1%;padding-bottom: 1…"
      ]
     },
     "metadata": {},
     "output_type": "display_data"
    },
    {
     "data": {
      "text/plain": [
       "<IBMQBackend('ibmq_16_melbourne') from IBMQ(hub='ibm-q', group='open', project='main')>"
      ]
     },
     "execution_count": 6,
     "metadata": {},
     "output_type": "execute_result"
    }
   ],
   "source": [
    "device = provider.get_backend('ibmq_16_melbourne')\n",
    "backend_monitor(device)\n",
    "device"
   ]
  },
  {
   "cell_type": "code",
   "execution_count": 7,
   "metadata": {},
   "outputs": [],
   "source": [
    "simulator = provider.get_backend('ibmq_qasm_simulator')"
   ]
  },
  {
   "cell_type": "code",
   "execution_count": 8,
   "metadata": {},
   "outputs": [],
   "source": [
    "seed = 0\n",
    "pmconfig = PassManagerConfig(\n",
    "            initial_layout=None,\n",
    "            basis_gates=['u1', 'u2', 'u3', 'cx', 'id'],\n",
    "            coupling_map=CouplingMap(device.configuration().coupling_map),\n",
    "            backend_properties=device.properties(),\n",
    "            seed_transpiler=seed)"
   ]
  },
  {
   "cell_type": "code",
   "execution_count": 9,
   "metadata": {},
   "outputs": [],
   "source": [
    "pm = level_3_with_contant_pure(pmconfig)"
   ]
  },
  {
   "cell_type": "code",
   "execution_count": 11,
   "metadata": {},
   "outputs": [],
   "source": [
    "QCList = []\n",
    "for i in range(3, 7):\n",
    "    QCList.append(transpile(QPE(nbits = i),device, optimization_level = 3))\n",
    "    QCList.append(pm.run(QPE(nbits = i)))"
   ]
  },
  {
   "cell_type": "code",
   "execution_count": 42,
   "metadata": {},
   "outputs": [
    {
     "data": {
      "text/plain": [
       "OrderedDict([('cx', 23),\n",
       "             ('u2', 17),\n",
       "             ('u3', 9),\n",
       "             ('u1', 6),\n",
       "             ('measure', 3),\n",
       "             ('barrier', 1)])"
      ]
     },
     "execution_count": 42,
     "metadata": {},
     "output_type": "execute_result"
    }
   ],
   "source": [
    "QCList[0].count_ops()"
   ]
  },
  {
   "cell_type": "code",
   "execution_count": 43,
   "metadata": {},
   "outputs": [
    {
     "data": {
      "text/plain": [
       "OrderedDict([('u2', 15),\n",
       "             ('cx', 15),\n",
       "             ('u1', 8),\n",
       "             ('u3', 4),\n",
       "             ('measure', 3),\n",
       "             ('barrier', 1)])"
      ]
     },
     "execution_count": 43,
     "metadata": {},
     "output_type": "execute_result"
    }
   ],
   "source": [
    "QCList[1].count_ops()"
   ]
  },
  {
   "cell_type": "code",
   "execution_count": 27,
   "metadata": {},
   "outputs": [],
   "source": [
    "from qiskit.qobj.utils import MeasLevel, MeasReturnType\n",
    "from qiskit.pulse import Schedule\n",
    "from qiskit.exceptions import QiskitError"
   ]
  },
  {
   "cell_type": "code",
   "execution_count": 28,
   "metadata": {},
   "outputs": [],
   "source": [
    "qobj = assemble(QCList,\n",
    "            qobj_id=None, qobj_header=None,\n",
    "            shots=8192,\n",
    "            memory=False, max_credits=10, seed_simulator=None,\n",
    "            default_qubit_los=None, default_meas_los=None,  # schedule run options\n",
    "            schedule_los=None, meas_level=MeasLevel.CLASSIFIED,\n",
    "            meas_return=MeasReturnType.AVERAGE,\n",
    "            memory_slots=None, memory_slot_size=100, rep_time=None, parameter_binds=None,\n",
    "            backend=device,\n",
    "            )"
   ]
  },
  {
   "cell_type": "code",
   "execution_count": 33,
   "metadata": {},
   "outputs": [
    {
     "name": "stdout",
     "output_type": "stream",
     "text": [
      "Job Status: job has successfully run\n"
     ]
    }
   ],
   "source": [
    "job2 = device.run(qobj)\n",
    "job_monitor(job2)\n",
    "res2 = job2.result()"
   ]
  },
  {
   "cell_type": "code",
   "execution_count": 34,
   "metadata": {},
   "outputs": [
    {
     "data": {
      "image/png": "[encoded data removed]",
      "text/plain": [
       "<Figure size 504x360 with 1 Axes>"
      ]
     },
     "execution_count": 34,
     "metadata": {},
     "output_type": "execute_result"
    }
   ],
   "source": [
    "plot_histogram(res2.get_counts()[0])"
   ]
  },
  {
   "cell_type": "code",
   "execution_count": 35,
   "metadata": {},
   "outputs": [
    {
     "data": {
      "image/png": "[encoded data removed]",
      "text/plain": [
       "<Figure size 504x360 with 1 Axes>"
      ]
     },
     "execution_count": 35,
     "metadata": {},
     "output_type": "execute_result"
    }
   ],
   "source": [
    "plot_histogram(res2.get_counts()[1])"
   ]
  },
  {
   "cell_type": "code",
   "execution_count": 38,
   "metadata": {},
   "outputs": [],
   "source": [
    "plot_histogram(res2.get_counts()[0]).savefig('melbournelevel3.pdf')"
   ]
  },
  {
   "cell_type": "code",
   "execution_count": 39,
   "metadata": {},
   "outputs": [],
   "source": [
    "plot_histogram(res2.get_counts()[1]).savefig('melbourneour.pdf')"
   ]
  },
  {
   "cell_type": "code",
   "execution_count": 40,
   "metadata": {},
   "outputs": [
    {
     "data": {
      "text/plain": [
       "{'000': 942,\n",
       " '111': 716,\n",
       " '001': 721,\n",
       " '101': 1166,\n",
       " '110': 1094,\n",
       " '011': 1117,\n",
       " '100': 1484,\n",
       " '010': 952}"
      ]
     },
     "execution_count": 40,
     "metadata": {},
     "output_type": "execute_result"
    }
   ],
   "source": [
    "#level3 result\n",
    "res2.get_counts()[0]"
   ]
  },
  {
   "cell_type": "code",
   "execution_count": 41,
   "metadata": {},
   "outputs": [
    {
     "data": {
      "text/plain": [
       "{'000': 850,\n",
       " '111': 2094,\n",
       " '001': 780,\n",
       " '101': 1298,\n",
       " '110': 1107,\n",
       " '011': 755,\n",
       " '100': 601,\n",
       " '010': 707}"
      ]
     },
     "execution_count": 41,
     "metadata": {},
     "output_type": "execute_result"
    }
   ],
   "source": [
    "#our result\n",
    "res2.get_counts()[1]"
   ]
  },
  {
   "cell_type": "code",
   "execution_count": null,
   "metadata": {},
   "outputs": [],
   "source": []
  }
 ],
 "metadata": {
  "kernelspec": {
   "display_name": "Python 3",
   "language": "python",
   "name": "python3"
  },
  "language_info": {
   "codemirror_mode": {
    "name": "ipython",
    "version": 3
   },
   "file_extension": ".py",
   "mimetype": "text/x-python",
   "name": "python",
   "nbconvert_exporter": "python",
   "pygments_lexer": "ipython3",
   "version": "3.7.3"
  }
 },
 "nbformat": 4,
 "nbformat_minor": 2
}
