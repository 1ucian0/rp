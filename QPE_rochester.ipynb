{
 "cells": [
  {
   "cell_type": "code",
   "execution_count": 1,
   "metadata": {},
   "outputs": [
    {
     "data": {
      "text/plain": [
       "{'qiskit-terra': '0.13.0',\n",
       " 'qiskit-aer': '0.5.0',\n",
       " 'qiskit-ignis': '0.3.0',\n",
       " 'qiskit-ibmq-provider': '0.6.0',\n",
       " 'qiskit-aqua': '0.6.5',\n",
       " 'qiskit': '0.18.0'}"
      ]
     },
     "execution_count": 1,
     "metadata": {},
     "output_type": "execute_result"
    }
   ],
   "source": [
    "from qiskit import IBMQ\n",
    "import qiskit\n",
    "qiskit.__qiskit_version__"
   ]
  },
  {
   "cell_type": "code",
   "execution_count": 2,
   "metadata": {},
   "outputs": [
    {
     "data": {
      "text/plain": [
       "[<IBMQSimulator('ibmq_qasm_simulator') from IBMQ(hub='ibm-q-ncsu', group='nc-state', project='on-boarding')>,\n",
       " <IBMQBackend('ibmq_poughkeepsie') from IBMQ(hub='ibm-q-ncsu', group='nc-state', project='on-boarding')>,\n",
       " <IBMQBackend('ibmq_vigo') from IBMQ(hub='ibm-q-ncsu', group='nc-state', project='on-boarding')>,\n",
       " <IBMQBackend('ibmq_ourense') from IBMQ(hub='ibm-q-ncsu', group='nc-state', project='on-boarding')>,\n",
       " <IBMQBackend('ibmq_valencia') from IBMQ(hub='ibm-q-ncsu', group='nc-state', project='on-boarding')>,\n",
       " <IBMQBackend('ibmq_london') from IBMQ(hub='ibm-q-ncsu', group='nc-state', project='on-boarding')>,\n",
       " <IBMQBackend('ibmq_burlington') from IBMQ(hub='ibm-q-ncsu', group='nc-state', project='on-boarding')>,\n",
       " <IBMQBackend('ibmq_almaden') from IBMQ(hub='ibm-q-ncsu', group='nc-state', project='on-boarding')>,\n",
       " <IBMQBackend('ibmq_rochester') from IBMQ(hub='ibm-q-ncsu', group='nc-state', project='on-boarding')>,\n",
       " <IBMQBackend('ibmq_essex') from IBMQ(hub='ibm-q-ncsu', group='nc-state', project='on-boarding')>,\n",
       " <IBMQBackend('ibmq_paris') from IBMQ(hub='ibm-q-ncsu', group='nc-state', project='on-boarding')>]"
      ]
     },
     "execution_count": 2,
     "metadata": {},
     "output_type": "execute_result"
    }
   ],
   "source": [
    "provider = IBMQ.load_account()\n",
    "provider = IBMQ.get_provider(hub='ibm-q-ncsu', group='nc-state', project='on-boarding')\n",
    "#provider = IBMQ.get_provider(hub='ibm-q', group='open', project='main')\n",
    "provider.backends()"
   ]
  },
  {
   "cell_type": "code",
   "execution_count": 3,
   "metadata": {},
   "outputs": [],
   "source": [
    "import math\n",
    "import numpy as np\n",
    "import random\n",
    "import re\n",
    "import qiskit.tools.jupyter\n",
    "\n",
    "from qiskit import *\n",
    "from qiskit.compiler import transpile\n",
    "from qiskit.visualization import plot_histogram\n",
    "from qiskit.tools.monitor import job_monitor\n",
    "\n",
    "from qiskit.transpiler import PassManager\n",
    "from qiskit.transpiler import CouplingMap, Layout\n",
    "from qiskit.transpiler.passes import StochasticSwap, BasicSwap\n",
    "\n",
    "from qiskit.tools.monitor import job_monitor, backend_monitor, backend_overview\n",
    "%matplotlib inline"
   ]
  },
  {
   "cell_type": "code",
   "execution_count": 4,
   "metadata": {},
   "outputs": [],
   "source": [
    "from qiskit.transpiler import PassManagerConfig\n",
    "from qiskit.transpiler.coupling import CouplingMap\n",
    "from statistics import mean\n",
    "from passmanager import level_3_with_contant_pure\n",
    "from benchmark.suites.qpe import QPE"
   ]
  },
  {
   "cell_type": "code",
   "execution_count": 5,
   "metadata": {},
   "outputs": [
    {
     "name": "stdout",
     "output_type": "stream",
     "text": [
      "ibmq_rochester\n",
      "==============\n",
      "Configuration\n",
      "-------------\n",
      "    n_qubits: 53\n",
      "    operational: True\n",
      "    status_msg: active\n",
      "    pending_jobs: 134\n",
      "    backend_version: 1.2.0\n",
      "    basis_gates: ['u1', 'u2', 'u3', 'cx', 'id']\n",
      "    local: False\n",
      "    simulator: False\n",
      "    credits_required: True\n",
      "    description: 53 qubit device\n",
      "    allow_object_storage: True\n",
      "    sample_name: Hummingbird\n",
      "    max_shots: 8192\n",
      "    conditional: False\n",
      "    open_pulse: False\n",
      "    n_registers: 1\n",
      "    allow_q_object: True\n",
      "    url: None\n",
      "    online_date: 2019-10-01T04:00:00+00:00\n",
      "    memory: False\n",
      "    backend_name: ibmq_rochester\n",
      "    max_experiments: 75\n",
      "    quantum_volume: 8\n",
      "    coupling_map: [[0, 1], [0, 5], [1, 0], [1, 2], [2, 1], [2, 3], [3, 2], [3, 4], [4, 3], [4, 6], [5, 0], [5, 9], [6, 4], [6, 13], [7, 8], [7, 16], [8, 7], [8, 9], [9, 5], [9, 8], [9, 10], [10, 9], [10, 11], [11, 10], [11, 12], [11, 17], [12, 11], [12, 13], [13, 6], [13, 12], [13, 14], [14, 13], [14, 15], [15, 14], [15, 18], [16, 7], [16, 19], [17, 11], [17, 23], [18, 15], [18, 27], [19, 16], [19, 20], [20, 19], [20, 21], [21, 20], [21, 22], [21, 28], [22, 21], [22, 23], [23, 17], [23, 22], [23, 24], [24, 23], [24, 25], [25, 24], [25, 26], [25, 29], [26, 25], [26, 27], [27, 18], [27, 26], [28, 21], [28, 32], [29, 25], [29, 36], [30, 31], [30, 39], [31, 30], [31, 32], [32, 28], [32, 31], [32, 33], [33, 32], [33, 34], [34, 33], [34, 35], [34, 40], [35, 34], [35, 36], [36, 29], [36, 35], [36, 37], [37, 36], [37, 38], [38, 37], [38, 41], [39, 30], [39, 42], [40, 34], [40, 46], [41, 38], [41, 50], [42, 39], [42, 43], [43, 42], [43, 44], [44, 43], [44, 45], [44, 51], [45, 44], [45, 46], [46, 40], [46, 45], [46, 47], [47, 46], [47, 48], [48, 47], [48, 49], [48, 52], [49, 48], [49, 50], [50, 41], [50, 49], [51, 44], [52, 48]]\n",
      "    allow_q_circuit: False\n",
      "\n",
      "Qubits [Name / Freq / T1 / T2 / U1 err / U2 err / U3 err / Readout err]\n",
      "-----------------------------------------------------------------------\n",
      "    Q0 / 4.92365 GHz / 58.00961 µs / 87.06213 µs / 0.0 / 0.00861 / 0.01722 / 0.05188\n",
      "    Q1 / 5.07709 GHz / 63.71453 µs / 57.85747 µs / 0.0 / 0.00108 / 0.00216 / 0.06625\n",
      "    Q2 / 4.99876 GHz / 50.92378 µs / 68.24595 µs / 0.0 / 0.00219 / 0.00438 / 0.18625\n",
      "    Q3 / 5.04612 GHz / 45.26343 µs / 112.9476 µs / 0.0 / 0.00223 / 0.00446 / 0.07125\n",
      "    Q4 / 4.93558 GHz / 42.30238 µs / 51.58314 µs / 0.0 / 0.00257 / 0.00515 / 0.08625\n",
      "    Q5 / 5.04666 GHz / 46.14262 µs / 70.10188 µs / 0.0 / 0.00122 / 0.00244 / 0.21313\n",
      "    Q6 / 5.04803 GHz / 55.15263 µs / 65.02419 µs / 0.0 / 0.00188 / 0.00376 / 0.08937\n",
      "    Q7 / 4.93373 GHz / 33.91481 µs / 39.94904 µs / 0.0 / 0.00124 / 0.00249 / 0.13375\n",
      "    Q8 / 5.03156 GHz / 51.65929 µs / 54.75127 µs / 0.0 / 0.00185 / 0.00369 / 0.09688\n",
      "    Q9 / 4.97403 GHz / 48.47568 µs / 66.43368 µs / 0.0 / 0.00097 / 0.00193 / 0.12375\n",
      "    Q10 / 5.06395 GHz / 58.42804 µs / 77.58694 µs / 0.0 / 0.00082 / 0.00165 / 0.0675\n",
      "    Q11 / 4.927 GHz / 57.86024 µs / 41.68115 µs / 0.0 / 0.00141 / 0.00283 / 0.10062\n",
      "    Q12 / 5.04737 GHz / 62.70371 µs / 80.74746 µs / 0.0 / 0.00242 / 0.00484 / 0.09563\n",
      "    Q13 / 4.94962 GHz / 65.51277 µs / 91.05188 µs / 0.0 / 0.00138 / 0.00276 / 0.34688\n",
      "    Q14 / 5.0677 GHz / 64.24772 µs / 55.30755 µs / 0.0 / 0.00074 / 0.00147 / 0.12187\n",
      "    Q15 / 4.87456 GHz / 53.80301 µs / 25.43999 µs / 0.0 / 0.001 / 0.00201 / 0.10125\n",
      "    Q16 / 5.07673 GHz / 56.83681 µs / 73.71611 µs / 0.0 / 0.0008 / 0.0016 / 0.0575\n",
      "    Q17 / 4.98723 GHz / 42.75972 µs / 8.71899 µs / 0.0 / 0.00188 / 0.00375 / 0.08688\n",
      "    Q18 / 5.06283 GHz / 45.94758 µs / 71.08984 µs / 0.0 / 0.00079 / 0.00159 / 0.02937\n",
      "    Q19 / 5.01952 GHz / 56.35859 µs / 57.30089 µs / 0.0 / 0.00071 / 0.00142 / 0.25438\n",
      "    Q20 / 4.88702 GHz / 50.91793 µs / 71.5367 µs / 0.0 / 0.00059 / 0.00117 / 0.01812\n",
      "    Q21 / 5.14458 GHz / 52.24786 µs / 41.04527 µs / 0.0 / 0.00078 / 0.00155 / 0.08062\n",
      "    Q22 / 4.90344 GHz / 75.37544 µs / 11.85691 µs / 0.0 / 0.00082 / 0.00163 / 0.08688\n",
      "    Q23 / 4.95619 GHz / 95.38287 µs / 50.09397 µs / 0.0 / 0.00154 / 0.00308 / 0.15813\n",
      "    Q24 / 4.88228 GHz / 46.93027 µs / 27.96279 µs / 0.0 / 0.00174 / 0.00349 / 0.025\n",
      "    Q25 / 4.97354 GHz / 56.52258 µs / 73.55565 µs / 0.0 / 0.00077 / 0.00154 / 0.02625\n",
      "    Q26 / 5.02386 GHz / 68.30359 µs / 46.3191 µs / 0.0 / 0.00092 / 0.00185 / 0.06375\n",
      "    Q27 / 4.98499 GHz / 64.99038 µs / 89.6848 µs / 0.0 / 0.00138 / 0.00277 / 0.14438\n",
      "    Q28 / 5.01646 GHz / 49.8123 µs / 71.20494 µs / 0.0 / 0.00094 / 0.00189 / 0.13938\n",
      "    Q29 / 4.99866 GHz / 55.62978 µs / 20.96231 µs / 0.0 / 0.00184 / 0.00368 / 0.02563\n",
      "    Q30 / 5.11457 GHz / 41.96874 µs / 52.69337 µs / 0.0 / 0.00248 / 0.00495 / 0.325\n",
      "    Q31 / 4.96413 GHz / 67.67393 µs / 67.98902 µs / 0.0 / 0.00073 / 0.00145 / 0.13312\n",
      "    Q32 / 5.1546 GHz / 50.97215 µs / 64.53667 µs / 0.0 / 0.00222 / 0.00443 / 0.22125\n",
      "    Q33 / 5.2108 GHz / 48.57884 µs / 62.06042 µs / 0.0 / 0.00067 / 0.00134 / 0.03563\n",
      "    Q34 / 4.96941 GHz / 72.15203 µs / 24.55608 µs / 0.0 / 0.00081 / 0.00162 / 0.21313\n",
      "    Q35 / 5.0445 GHz / 57.65322 µs / 53.12396 µs / 0.0 / 0.00384 / 0.00767 / 0.19562\n",
      "    Q36 / 5.02598 GHz / 43.7675 µs / 52.38709 µs / 0.0 / 0.00198 / 0.00397 / 0.04125\n",
      "    Q37 / 5.17247 GHz / 33.67553 µs / 53.58411 µs / 0.0 / 0.00072 / 0.00143 / 0.15125\n",
      "    Q38 / 4.90985 GHz / 75.84098 µs / 51.0514 µs / 0.0 / 0.0007 / 0.00141 / 0.19188\n",
      "    Q39 / 5.05311 GHz / 51.41509 µs / 70.63176 µs / 0.0 / 0.00117 / 0.00235 / 0.12813\n",
      "    Q40 / 5.059 GHz / 56.95539 µs / 76.98489 µs / 0.0 / 0.00135 / 0.00269 / 0.12625\n",
      "    Q41 / 5.04625 GHz / 63.40497 µs / 59.37274 µs / 0.0 / 0.00213 / 0.00425 / 0.40563\n",
      "    Q42 / 4.99465 GHz / 55.99689 µs / 54.11084 µs / 0.0 / 0.00109 / 0.00218 / 0.13438\n",
      "    Q43 / 5.06584 GHz / 61.75523 µs / 39.326 µs / 0.0 / 0.00102 / 0.00205 / 0.09125\n",
      "    Q44 / 4.97623 GHz / 63.37508 µs / 59.40327 µs / 0.0 / 0.00086 / 0.00172 / 0.08625\n",
      "    Q45 / 5.08913 GHz / 51.95441 µs / 62.07832 µs / 0.0 / 0.00076 / 0.00151 / 0.10125\n",
      "    Q46 / 5.0317 GHz / 57.63736 µs / 79.04012 µs / 0.0 / 0.00132 / 0.00264 / 0.04375\n",
      "    Q47 / 5.06927 GHz / 55.6692 µs / 72.02709 µs / 0.0 / 0.00098 / 0.00196 / 0.1875\n",
      "    Q48 / 4.97328 GHz / 57.45792 µs / 93.91932 µs / 0.0 / 0.00179 / 0.00358 / 0.03125\n",
      "    Q49 / 5.07255 GHz / 58.57707 µs / 71.64383 µs / 0.0 / 0.00084 / 0.00167 / 0.06688\n",
      "    Q50 / 4.95909 GHz / 48.15086 µs / 34.63795 µs / 0.0 / 0.00094 / 0.00189 / 0.09375\n",
      "    Q51 / 5.12939 GHz / 42.73925 µs / 28.18839 µs / 0.0 / 0.01614 / 0.03227 / 0.16125\n",
      "    Q52 / 5.04349 GHz / 62.75128 µs / 95.60295 µs / 0.0 / 0.00831 / 0.01662 / 0.10562\n",
      "\n",
      "Multi-Qubit Gates [Name / Type / Gate Error]\n",
      "--------------------------------------------\n",
      "    cx0_1 / cx / 0.07862\n",
      "    cx0_5 / cx / 0.08073\n",
      "    cx1_0 / cx / 0.07862\n",
      "    cx1_2 / cx / 0.02751\n",
      "    cx2_1 / cx / 0.02751\n",
      "    cx2_3 / cx / 0.03762\n",
      "    cx3_2 / cx / 0.03762\n",
      "    cx3_4 / cx / 0.02707\n",
      "    cx4_3 / cx / 0.02707\n",
      "    cx4_6 / cx / 0.04555\n",
      "    cx5_0 / cx / 0.08073\n",
      "    cx5_9 / cx / 0.02497\n",
      "    cx6_4 / cx / 0.04555\n",
      "    cx6_13 / cx / 0.05702\n",
      "    cx7_8 / cx / 0.06087\n",
      "    cx7_16 / cx / 0.04183\n",
      "    cx8_7 / cx / 0.06087\n",
      "    cx8_9 / cx / 0.04481\n",
      "    cx9_5 / cx / 0.02497\n",
      "    cx9_8 / cx / 0.04481\n",
      "    cx9_10 / cx / 0.01983\n",
      "    cx10_9 / cx / 0.01983\n",
      "    cx10_11 / cx / 0.03718\n",
      "    cx11_10 / cx / 0.03718\n",
      "    cx11_12 / cx / 0.04996\n",
      "    cx11_17 / cx / 0.03432\n",
      "    cx12_11 / cx / 0.04996\n",
      "    cx12_13 / cx / 0.0438\n",
      "    cx13_6 / cx / 0.05702\n",
      "    cx13_12 / cx / 0.0438\n",
      "    cx13_14 / cx / 0.05703\n",
      "    cx14_13 / cx / 0.05703\n",
      "    cx14_15 / cx / 0.04102\n",
      "    cx15_14 / cx / 0.04102\n",
      "    cx15_18 / cx / 0.03312\n",
      "    cx16_7 / cx / 0.04183\n",
      "    cx16_19 / cx / 0.02352\n",
      "    cx17_11 / cx / 0.03432\n",
      "    cx17_23 / cx / 0.05206\n",
      "    cx18_15 / cx / 0.03312\n",
      "    cx18_27 / cx / 0.04419\n",
      "    cx19_16 / cx / 0.02352\n",
      "    cx19_20 / cx / 0.02628\n",
      "    cx20_19 / cx / 0.02628\n",
      "    cx20_21 / cx / 0.02159\n",
      "    cx21_20 / cx / 0.02159\n",
      "    cx21_22 / cx / 0.05987\n",
      "    cx21_28 / cx / 0.02578\n",
      "    cx22_21 / cx / 0.05987\n",
      "    cx22_23 / cx / 0.05159\n",
      "    cx23_17 / cx / 0.05206\n",
      "    cx23_22 / cx / 0.05159\n",
      "    cx23_24 / cx / 0.02973\n",
      "    cx24_23 / cx / 0.02973\n",
      "    cx24_25 / cx / 0.04472\n",
      "    cx25_24 / cx / 0.04472\n",
      "    cx25_26 / cx / 0.04215\n",
      "    cx25_29 / cx / 0.22442\n",
      "    cx26_25 / cx / 0.04215\n",
      "    cx26_27 / cx / 0.03154\n",
      "    cx27_18 / cx / 0.04419\n",
      "    cx27_26 / cx / 0.03154\n",
      "    cx28_21 / cx / 0.02578\n",
      "    cx28_32 / cx / 0.05066\n",
      "    cx29_25 / cx / 0.22442\n",
      "    cx29_36 / cx / 0.04824\n",
      "    cx30_31 / cx / 0.0348\n",
      "    cx30_39 / cx / 0.1242\n",
      "    cx31_30 / cx / 0.0348\n",
      "    cx31_32 / cx / 1.0\n",
      "    cx32_28 / cx / 0.05066\n",
      "    cx32_31 / cx / 1.0\n",
      "    cx32_33 / cx / 0.03467\n",
      "    cx33_32 / cx / 0.03467\n",
      "    cx33_34 / cx / 0.036\n",
      "    cx34_33 / cx / 0.036\n",
      "    cx34_35 / cx / 0.12748\n",
      "    cx34_40 / cx / 0.01926\n",
      "    cx35_34 / cx / 0.12748\n",
      "    cx35_36 / cx / 0.04838\n",
      "    cx36_29 / cx / 0.04824\n",
      "    cx36_35 / cx / 0.04838\n",
      "    cx36_37 / cx / 0.04073\n",
      "    cx37_36 / cx / 0.04073\n",
      "    cx37_38 / cx / 0.04308\n",
      "    cx38_37 / cx / 0.04308\n",
      "    cx38_41 / cx / 1.0\n",
      "    cx39_30 / cx / 0.1242\n",
      "    cx39_42 / cx / 0.0818\n",
      "    cx40_34 / cx / 0.03013\n",
      "    cx40_46 / cx / 0.03612\n",
      "    cx41_38 / cx / 1.0\n",
      "    cx41_50 / cx / 1.0\n",
      "    cx42_39 / cx / 0.0818\n",
      "    cx42_43 / cx / 0.02678\n",
      "    cx43_42 / cx / 0.02678\n",
      "    cx43_44 / cx / 1.0\n",
      "    cx44_43 / cx / 1.0\n",
      "    cx44_45 / cx / 0.02806\n",
      "    cx44_51 / cx / 1.0\n",
      "    cx45_44 / cx / 0.02806\n",
      "    cx45_46 / cx / 1.0\n",
      "    cx46_40 / cx / 0.03612\n",
      "    cx46_45 / cx / 1.0\n",
      "    cx46_47 / cx / 0.14543\n",
      "    cx47_46 / cx / 0.14543\n",
      "    cx47_48 / cx / 0.02757\n",
      "    cx48_47 / cx / 0.02757\n",
      "    cx48_49 / cx / 0.02434\n",
      "    cx48_52 / cx / 0.05273\n",
      "    cx49_48 / cx / 0.02434\n",
      "    cx49_50 / cx / 0.03949\n",
      "    cx50_41 / cx / 1.0\n",
      "    cx50_49 / cx / 0.03949\n",
      "    cx51_44 / cx / 1.0\n",
      "    cx52_48 / cx / 0.05273\n"
     ]
    },
    {
     "data": {
      "application/vnd.jupyter.widget-view+json": {
       "model_id": "913f7d847e3a419bbac233d25ab8bc5e",
       "version_major": 2,
       "version_minor": 0
      },
      "text/plain": [
       "VBox(children=(HTML(value=\"<h1 style='color:#ffffff;background-color:#000000;padding-top: 1%;padding-bottom: 1…"
      ]
     },
     "metadata": {},
     "output_type": "display_data"
    },
    {
     "data": {
      "text/plain": [
       "<IBMQBackend('ibmq_rochester') from IBMQ(hub='ibm-q-ncsu', group='nc-state', project='on-boarding')>"
      ]
     },
     "execution_count": 5,
     "metadata": {},
     "output_type": "execute_result"
    }
   ],
   "source": [
    "device = provider.get_backend('ibmq_rochester')\n",
    "backend_monitor(device)\n",
    "device"
   ]
  },
  {
   "cell_type": "code",
   "execution_count": 6,
   "metadata": {},
   "outputs": [],
   "source": [
    "simulator = provider.get_backend('ibmq_qasm_simulator')"
   ]
  },
  {
   "cell_type": "code",
   "execution_count": 17,
   "metadata": {},
   "outputs": [],
   "source": [
    "seed = 0\n",
    "pmconfig = PassManagerConfig(\n",
    "            initial_layout=None,\n",
    "            basis_gates=['u1', 'u2', 'u3', 'cx', 'id'],\n",
    "            coupling_map=CouplingMap(device.configuration().coupling_map),\n",
    "            backend_properties=device.properties(),\n",
    "            seed_transpiler=seed)"
   ]
  },
  {
   "cell_type": "code",
   "execution_count": 18,
   "metadata": {},
   "outputs": [],
   "source": [
    "pm = level_3_with_contant_pure(pmconfig)"
   ]
  },
  {
   "cell_type": "code",
   "execution_count": 19,
   "metadata": {},
   "outputs": [],
   "source": [
    "QCList = []\n",
    "for i in range(3, 7):\n",
    "    QCList.append(transpile(QPE(nbits = i),device, optimization_level = 3))\n",
    "    QCList.append(pm.run(QPE(nbits = i)))"
   ]
  },
  {
   "cell_type": "code",
   "execution_count": 20,
   "metadata": {},
   "outputs": [
    {
     "data": {
      "text/plain": [
       "OrderedDict([('cx', 25),\n",
       "             ('u2', 18),\n",
       "             ('u1', 10),\n",
       "             ('measure', 3),\n",
       "             ('u3', 2),\n",
       "             ('barrier', 1)])"
      ]
     },
     "execution_count": 20,
     "metadata": {},
     "output_type": "execute_result"
    }
   ],
   "source": [
    "QCList[0].count_ops()"
   ]
  },
  {
   "cell_type": "code",
   "execution_count": 21,
   "metadata": {},
   "outputs": [
    {
     "data": {
      "text/plain": [
       "OrderedDict([('cx', 18),\n",
       "             ('u2', 16),\n",
       "             ('u1', 7),\n",
       "             ('u3', 5),\n",
       "             ('measure', 3),\n",
       "             ('barrier', 1)])"
      ]
     },
     "execution_count": 21,
     "metadata": {},
     "output_type": "execute_result"
    }
   ],
   "source": [
    "QCList[1].count_ops()"
   ]
  },
  {
   "cell_type": "code",
   "execution_count": 27,
   "metadata": {},
   "outputs": [],
   "source": [
    "from qiskit.qobj.utils import MeasLevel, MeasReturnType\n",
    "from qiskit.pulse import Schedule\n",
    "from qiskit.exceptions import QiskitError"
   ]
  },
  {
   "cell_type": "code",
   "execution_count": 28,
   "metadata": {},
   "outputs": [],
   "source": [
    "qobj = assemble(QCList,\n",
    "            qobj_id=None, qobj_header=None,\n",
    "            shots=8192,\n",
    "            memory=False, max_credits=10, seed_simulator=None,\n",
    "            default_qubit_los=None, default_meas_los=None,  # schedule run options\n",
    "            schedule_los=None, meas_level=MeasLevel.CLASSIFIED,\n",
    "            meas_return=MeasReturnType.AVERAGE,\n",
    "            memory_slots=None, memory_slot_size=100, rep_time=None, parameter_binds=None,\n",
    "            backend=device,\n",
    "            )"
   ]
  },
  {
   "cell_type": "code",
   "execution_count": 29,
   "metadata": {},
   "outputs": [
    {
     "name": "stdout",
     "output_type": "stream",
     "text": [
      "Job Status: job has successfully run\n"
     ]
    }
   ],
   "source": [
    "job2 = device.run(qobj)\n",
    "job_monitor(job2)\n",
    "res2 = job2.result()"
   ]
  },
  {
   "cell_type": "code",
   "execution_count": 30,
   "metadata": {},
   "outputs": [
    {
     "data": {
      "image/png": "[encoded data removed]",
      "text/plain": [
       "<Figure size 504x360 with 1 Axes>"
      ]
     },
     "execution_count": 30,
     "metadata": {},
     "output_type": "execute_result"
    }
   ],
   "source": [
    "plot_histogram(res2.get_counts()[0])"
   ]
  },
  {
   "cell_type": "code",
   "execution_count": 31,
   "metadata": {},
   "outputs": [
    {
     "data": {
      "image/png": "[encoded data removed]",
      "text/plain": [
       "<Figure size 504x360 with 1 Axes>"
      ]
     },
     "execution_count": 31,
     "metadata": {},
     "output_type": "execute_result"
    }
   ],
   "source": [
    "plot_histogram(res2.get_counts()[1])"
   ]
  },
  {
   "cell_type": "code",
   "execution_count": 34,
   "metadata": {},
   "outputs": [],
   "source": [
    "plot_histogram(res2.get_counts()[0]).savefig('rochesterlevel3.pdf')"
   ]
  },
  {
   "cell_type": "code",
   "execution_count": 35,
   "metadata": {},
   "outputs": [],
   "source": [
    "plot_histogram(res2.get_counts()[1]).savefig('rochesterour.pdf')"
   ]
  },
  {
   "cell_type": "code",
   "execution_count": 37,
   "metadata": {},
   "outputs": [
    {
     "data": {
      "text/plain": [
       "{'110': 948,\n",
       " '111': 1740,\n",
       " '010': 593,\n",
       " '000': 865,\n",
       " '001': 1137,\n",
       " '100': 803,\n",
       " '011': 965,\n",
       " '101': 1141}"
      ]
     },
     "execution_count": 37,
     "metadata": {},
     "output_type": "execute_result"
    }
   ],
   "source": [
    "#level3 result\n",
    "res2.get_counts()[0]"
   ]
  },
  {
   "cell_type": "code",
   "execution_count": 38,
   "metadata": {},
   "outputs": [
    {
     "data": {
      "text/plain": [
       "{'110': 1026,\n",
       " '111': 2658,\n",
       " '010': 531,\n",
       " '000': 637,\n",
       " '001': 583,\n",
       " '100': 716,\n",
       " '011': 1296,\n",
       " '101': 745}"
      ]
     },
     "execution_count": 38,
     "metadata": {},
     "output_type": "execute_result"
    }
   ],
   "source": [
    "#our result\n",
    "res2.get_counts()[1]"
   ]
  },
  {
   "cell_type": "code",
   "execution_count": null,
   "metadata": {},
   "outputs": [],
   "source": []
  }
 ],
 "metadata": {
  "kernelspec": {
   "display_name": "Python 3",
   "language": "python",
   "name": "python3"
  },
  "language_info": {
   "codemirror_mode": {
    "name": "ipython",
    "version": 3
   },
   "file_extension": ".py",
   "mimetype": "text/x-python",
   "name": "python",
   "nbconvert_exporter": "python",
   "pygments_lexer": "ipython3",
   "version": "3.7.3"
  }
 },
 "nbformat": 4,
 "nbformat_minor": 2
}
